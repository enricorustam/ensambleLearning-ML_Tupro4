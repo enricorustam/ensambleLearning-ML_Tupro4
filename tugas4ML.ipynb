{
 "cells": [
  {
   "cell_type": "code",
   "execution_count": 14,
   "metadata": {},
   "outputs": [],
   "source": [
    "import numpy as np\n",
    "import statistics\n",
    "import math\n",
    "import random"
   ]
  },
  {
   "cell_type": "code",
   "execution_count": 15,
   "metadata": {},
   "outputs": [],
   "source": [
    "DL = np.genfromtxt(\"TrainsetTugas4ML.csv\",delimiter=',', skip_header=True)\n",
    "DU = np.genfromtxt(\"TestsetTugas4ML.csv\",delimiter=',', skip_header=True)\n",
    "bootstrap = 5 \n",
    "dttrainmdl = len(DL) #jml data train permodel"
   ]
  },
  {
   "cell_type": "code",
   "execution_count": 16,
   "metadata": {},
   "outputs": [],
   "source": [
    "def meanstdev(bt): #fungsi hitung rata2 dan standar deviasi\n",
    "    attr1 = []; attr2 = []; attr3 = []; attr4 = []\n",
    "    jml1 = 0; jml2 = 0\n",
    "    panjang=len(bt)\n",
    "    for i in bt:\n",
    "        if(i[2]==1):\n",
    "            attr1.append(i[0])\n",
    "            attr3.append(i[1])\n",
    "            jml1+=1\n",
    "        elif(i[2]==2):\n",
    "            attr2.append(i[0])\n",
    "            attr4.append(i[1])\n",
    "            jml2+=1\n",
    "    hsl1 = [statistics.mean(attr1), statistics.stdev(attr1), jml1]\n",
    "    hsl2 = [statistics.mean(attr2), statistics.stdev(attr2), jml2]\n",
    "    hsl3 = [statistics.mean(attr3), statistics.stdev(attr3), jml1]\n",
    "    hsl4 = [statistics.mean(attr4), statistics.stdev(attr4), jml2]\n",
    "    mnstdev = []\n",
    "    mnstdev.append(hsl1); mnstdev.append(hsl2); mnstdev.append(hsl3); mnstdev.append(hsl4)\n",
    "    return mnstdev\n",
    "\n",
    "def count(x, rata2, stdev):\n",
    "    var = float(stdev)**2\n",
    "    pembagi = (2*math.pi*var)**.5\n",
    "    num = math.exp(-(float(x)-float(rata2))**2/(2*var))\n",
    "    return num/pembagi\n",
    "\n",
    "def nvBayes(DU, mnstdv): #naive bayes\n",
    "    kls1 = count(DU[0], mnstdv[0][0], mnstdv[0][1]) * count(DU[1], mnstdv[2][0], mnstdv[2][1]) * (mnstdv[0][2]/dttrainmdl)\n",
    "    kls2 = count(DU[0], mnstdv[1][0], mnstdv[1][1]) * count(DU[1], mnstdv[3][0], mnstdv[3][1]) * (mnstdv[1][2]/dttrainmdl)\n",
    "    if(kls1>kls2):\n",
    "        return -1\n",
    "    else:\n",
    "        return 1\n"
   ]
  },
  {
   "cell_type": "code",
   "execution_count": 17,
   "metadata": {},
   "outputs": [
    {
     "name": "stdout",
     "output_type": "stream",
     "text": [
      "[2, 2, 2, 2, 2, 2, 2, 2, 2, 2, 2, 1, 2, 1, 2, 1, 1, 1, 1, 1, 2, 1, 2, 1, 1, 1, 1, 2, 1, 2, 2, 1, 2, 1, 1, 1, 1, 1, 1, 1, 1, 2, 1, 1, 1, 1, 1, 1, 1, 1, 1, 1, 1, 1, 1, 1, 1, 1, 1, 1, 1, 1, 1, 1, 1, 1, 1, 1, 1, 1, 1, 1, 1, 1, 1]\n"
     ]
    }
   ],
   "source": [
    "bt = [] #bootstrap\n",
    "for i in range(bootstrap):\n",
    "    subbt = []\n",
    "    for j in range(dttrainmdl):\n",
    "        subbt.append(DL[random.randint(0,len(DL)-1)])\n",
    "    bt.append(subbt)\n",
    "\n",
    "mnstdev = [] #cari rata2 dan standar deviasi\n",
    "for k in range(bootstrap):\n",
    "    mnstdev.append(meanstdev(bt[k]))\n",
    "\n",
    "hasil = [] #penentuan kelas\n",
    "for test in DU:\n",
    "    hsl = 0\n",
    "    for mnstdv in mnstdev:\n",
    "        hsl += nvBayes(test,mnstdv)\n",
    "    if(hsl>0):\n",
    "        hasil.append(2)\n",
    "    else:\n",
    "        hasil.append(1)\n",
    "print(hasil)\n",
    "a = np.asarray(hasil)\n",
    "a.tofile('TebakanTugas4MLrev.csv',sep='\\n')\n"
   ]
  },
  {
   "cell_type": "code",
   "execution_count": null,
   "metadata": {},
   "outputs": [],
   "source": []
  }
 ],
 "metadata": {
  "kernelspec": {
   "display_name": "Python 3",
   "language": "python",
   "name": "python3"
  },
  "language_info": {
   "codemirror_mode": {
    "name": "ipython",
    "version": 3
   },
   "file_extension": ".py",
   "mimetype": "text/x-python",
   "name": "python",
   "nbconvert_exporter": "python",
   "pygments_lexer": "ipython3",
   "version": "3.7.1"
  }
 },
 "nbformat": 4,
 "nbformat_minor": 2
}
